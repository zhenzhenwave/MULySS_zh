{
 "cells": [
  {
   "cell_type": "code",
   "execution_count": 1,
   "metadata": {
    "execution": {
     "iopub.execute_input": "2020-09-21T06:11:17.426203Z",
     "iopub.status.busy": "2020-09-21T06:11:17.426203Z",
     "iopub.status.idle": "2020-09-21T06:11:17.469207Z",
     "shell.execute_reply": "2020-09-21T06:11:17.468523Z",
     "shell.execute_reply.started": "2020-09-21T06:11:17.426203Z"
    }
   },
   "outputs": [],
   "source": [
    "import pandas as pd\n",
    "import numpy as np\n",
    "\n",
    "file = pd.read_csv('table_16_2.csv')\n",
    "df = pd.DataFrame(file)"
   ]
  },
  {
   "cell_type": "code",
   "execution_count": 2,
   "metadata": {
    "execution": {
     "iopub.execute_input": "2020-09-21T06:11:22.564944Z",
     "iopub.status.busy": "2020-09-21T06:11:22.563945Z",
     "iopub.status.idle": "2020-09-21T06:11:22.578467Z",
     "shell.execute_reply": "2020-09-21T06:11:22.576945Z",
     "shell.execute_reply.started": "2020-09-21T06:11:22.564944Z"
    }
   },
   "outputs": [
    {
     "name": "stdout",
     "output_type": "stream",
     "text": [
      "object\n"
     ]
    },
    {
     "data": {
      "text/plain": [
       "0    J003010.59+400741.0\n",
       "1    J004143.13+312729.9\n",
       "2    J004613.83+335010.3\n",
       "3    J005242.36+315545.1\n",
       "4    J012100.34-012517.0\n",
       "Name: catalogue_designation, dtype: object"
      ]
     },
     "execution_count": 2,
     "metadata": {},
     "output_type": "execute_result"
    }
   ],
   "source": [
    "# 选取文件名这一列\n",
    "file_path = df.loc[:,'obsfits_file']\n",
    "# 选取snrr这一列\n",
    "snrr = df.loc[:, 'catalogue_snrr']\n",
    "# 选取desig这一列\n",
    "desig = df.loc[:, 'catalogue_designation']\n",
    "print(desig.dtype)\n",
    "desig[0:5]"
   ]
  },
  {
   "cell_type": "code",
   "execution_count": 21,
   "metadata": {
    "execution": {
     "iopub.execute_input": "2020-09-21T02:17:03.288985Z",
     "iopub.status.busy": "2020-09-21T02:17:03.288050Z",
     "iopub.status.idle": "2020-09-21T02:17:03.293987Z",
     "shell.execute_reply": "2020-09-21T02:17:03.292987Z",
     "shell.execute_reply.started": "2020-09-21T02:17:03.288985Z"
    }
   },
   "outputs": [
    {
     "name": "stdout",
     "output_type": "stream",
     "text": [
      "EG041109N021906M01/spec-56604-EG041109N021906M01_sp05-127.fits\n",
      "18\n",
      "spec-56604-EG041109N021906M01_sp05-127.fits\n"
     ]
    }
   ],
   "source": [
    "# 测试一下字符串处理\n",
    "path_name = file_path.iloc[15]\n",
    "print(path_name)\n",
    "print(path_name.index('/'))\n",
    "print(path_name[19:])"
   ]
  },
  {
   "cell_type": "markdown",
   "metadata": {},
   "source": [
    "## 文件输出"
   ]
  },
  {
   "cell_type": "code",
   "execution_count": 31,
   "metadata": {
    "execution": {
     "iopub.execute_input": "2020-09-21T02:36:42.423306Z",
     "iopub.status.busy": "2020-09-21T02:36:42.423306Z",
     "iopub.status.idle": "2020-09-21T02:36:42.434341Z",
     "shell.execute_reply": "2020-09-21T02:36:42.434341Z",
     "shell.execute_reply.started": "2020-09-21T02:36:42.423306Z"
    }
   },
   "outputs": [
    {
     "name": "stdout",
     "output_type": "stream",
     "text": [
      "done!\n"
     ]
    }
   ],
   "source": [
    "# 文件输出， desig snrr path_name\n",
    "with open('DataBase_b16.txt', 'w+') as f:\n",
    "    for i in range(76):\n",
    "        desig_name = desig.iloc[i]\n",
    "        snr_r = str(snrr.iloc[i])\n",
    "        full_name = file_path.iloc[i]\n",
    "        start = full_name.index('/')\n",
    "        path_name = full_name[start+1:]\n",
    "        out_text = desig_name + ' ' + snr_r + ' ' + path_name\n",
    "        f.writelines(out_text+'\\n')\n",
    "\n",
    "print('done!')"
   ]
  },
  {
   "cell_type": "markdown",
   "metadata": {},
   "source": [
    "## 将table_b16中的相同名称的行保留"
   ]
  },
  {
   "cell_type": "code",
   "execution_count": 24,
   "metadata": {
    "execution": {
     "iopub.execute_input": "2020-09-21T06:28:58.179721Z",
     "iopub.status.busy": "2020-09-21T06:28:58.179721Z",
     "iopub.status.idle": "2020-09-21T06:28:58.185719Z",
     "shell.execute_reply": "2020-09-21T06:28:58.185278Z",
     "shell.execute_reply.started": "2020-09-21T06:28:58.179721Z"
    }
   },
   "outputs": [
    {
     "name": "stdout",
     "output_type": "stream",
     "text": [
      "aru\n"
     ]
    }
   ],
   "source": [
    "# test\n",
    "desig_name = 'J004143.13+312729.9'\n",
    "def leave_it(desig_name):\n",
    "    desig_name = str(desig_name)\n",
    "    if len(df.loc[df.catalogue_designation==desig_name]):\n",
    "        print('aru')\n",
    "\n",
    "leave_it(desig_name)"
   ]
  },
  {
   "cell_type": "code",
   "execution_count": 59,
   "metadata": {
    "execution": {
     "iopub.execute_input": "2020-09-21T07:08:35.029015Z",
     "iopub.status.busy": "2020-09-21T07:08:35.028012Z",
     "iopub.status.idle": "2020-09-21T07:08:35.107645Z",
     "shell.execute_reply": "2020-09-21T07:08:35.106798Z",
     "shell.execute_reply.started": "2020-09-21T07:08:35.029015Z"
    }
   },
   "outputs": [
    {
     "name": "stdout",
     "output_type": "stream",
     "text": [
      "done\n"
     ]
    }
   ],
   "source": [
    "# 一边读一边写\n",
    "file1 = 'table_b16'\n",
    "file2 = 'table_b16_modified'\n",
    "with open(file1) as f1:\n",
    "    with open(file2, 'w+') as f2:\n",
    "        lines = f1.readlines()\n",
    "        for line in lines:\n",
    "            desig_name = line[0:19]\n",
    "            if len(df.loc[df.catalogue_designation==desig_name]):\n",
    "                f2.writelines(line)\n",
    "print('done')"
   ]
  },
  {
   "cell_type": "markdown",
   "metadata": {},
   "source": [
    "## 修改DataBase中简并的项目"
   ]
  },
  {
   "cell_type": "code",
   "execution_count": 58,
   "metadata": {
    "execution": {
     "iopub.execute_input": "2020-09-21T07:05:08.842226Z",
     "iopub.status.busy": "2020-09-21T07:05:08.841210Z",
     "iopub.status.idle": "2020-09-21T07:05:08.851221Z",
     "shell.execute_reply": "2020-09-21T07:05:08.850205Z",
     "shell.execute_reply.started": "2020-09-21T07:05:08.842226Z"
    }
   },
   "outputs": [
    {
     "name": "stdout",
     "output_type": "stream",
     "text": [
      "76 72\n",
      "['J044738.31+273601.0', 'J044738.31+273601.0', 'J072516.99+290323.3', 'J072516.99+290323.3', 'J072516.99+290323.3', 'J091406.72+305034.3', 'J091406.72+305034.3']\n",
      "7\n"
     ]
    }
   ],
   "source": [
    "file1 = 'table_b16'\n",
    "file3 = 'DataBase_b16.txt'\n",
    "with open(file1) as f1:\n",
    "    with open(file3) as f3:\n",
    "        lines_1 = f1.readlines()\n",
    "        desig_1 = [x[0:19] for x in lines_1]\n",
    "        lines_3 = f3.readlines()\n",
    "        desig_3 = [x[0:19] for x in lines_3]\n",
    "        desig_3_2 = set(desig_3)\n",
    "        print(len(desig_3), len(desig_3_2)) # DataBase中存在相同desig的\n",
    "        same = [x for x in desig_3 if desig_3.count(x)==1]\n",
    "        not_same = [y for y in desig_3 if desig_3.count(y)>1]\n",
    "        \n",
    "print(not_same)\n",
    "print(len(not_same))"
   ]
  },
  {
   "cell_type": "code",
   "execution_count": null,
   "metadata": {},
   "outputs": [],
   "source": []
  }
 ],
 "metadata": {
  "kernelspec": {
   "display_name": "Python 3",
   "language": "python",
   "name": "python3"
  },
  "language_info": {
   "codemirror_mode": {
    "name": "ipython",
    "version": 3
   },
   "file_extension": ".py",
   "mimetype": "text/x-python",
   "name": "python",
   "nbconvert_exporter": "python",
   "pygments_lexer": "ipython3",
   "version": "3.8.5"
  }
 },
 "nbformat": 4,
 "nbformat_minor": 4
}
