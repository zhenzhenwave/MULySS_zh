{
 "cells": [
  {
   "cell_type": "markdown",
   "metadata": {},
   "source": [
    "## 读入fits"
   ]
  },
  {
   "cell_type": "code",
   "execution_count": 1,
   "metadata": {},
   "outputs": [
    {
     "name": "stdout",
     "output_type": "stream",
     "text": [
      "Filename: ./miles_tgm2.fits\n",
      "No.    Name      Ver    Type      Cards   Dimensions   Format\n",
      "  0  warm          1 PrimaryHDU      33   (4306, 26)   float64   \n",
      "  1  hot           1 ImageHDU        33   (4306, 19)   float64   \n",
      "  2  cold          1 ImageHDU        33   (4306, 26)   float64   \n"
     ]
    }
   ],
   "source": [
    "import numpy as np\n",
    "from astropy.io import fits\n",
    "filename = './miles_tgm2.fits'\n",
    "\n",
    "with fits.open(filename) as fits_file:\n",
    "    fits_file.info()"
   ]
  },
  {
   "cell_type": "code",
   "execution_count": 4,
   "metadata": {},
   "outputs": [
    {
     "data": {
      "text/plain": [
       "XTENSION= 'IMAGE   '           / IMAGE extension                                \n",
       "BITPIX  =                  -64 / number of bits per data pixel                  \n",
       "NAXIS   =                    2 / number of data axes                            \n",
       "NAXIS1  =                 4306 / length of data axis 1                          \n",
       "NAXIS2  =                   26 / length of data axis 2                          \n",
       "PCOUNT  =                    0 / required keyword; must = 0                     \n",
       "GCOUNT  =                    1 / required keyword; must = 1                     \n",
       "EXTNAME = 'cold    '                                                            \n",
       "EXTVER  =                    1                                                  \n",
       "FILENAME= 'tmp/99010_00.fits'  / Original filename                              \n",
       "CRPIX1  =                   1. / Reference pixel                                \n",
       "CRVAL1  =                3536. / Coordinate at reference pixel                  \n",
       "CD1_1   =                  0.9 / Coordinate increment per pixel                 \n",
       "CDELT1  =                  0.9 / Coordinate increment (prefer CD)               \n",
       "CRPIX2  =                   1. / Reference pixel                                \n",
       "CRVAL2  =      8.08574194E-314 / Coordinate at reference pixel                  \n",
       "CD2_2   =      8.08574194E-314 / Coordinate increment per pixel                 \n",
       "CDELT2  =      8.08574194E-314 / Coordinate increment (prefer CD)               \n",
       "CREATOR = 'Pleinpot     2'     / Written by Pleinpot (Hypercat)                 \n",
       "H_IDENT = 'MILES interpolator model' / Frame identifier                         \n",
       "H_AXIS1 =                    2 / Wavelength                                     \n",
       "CTYPE1  = 'AWAV    '           / Axis type                                      \n",
       "INTRP_T = 'A       '           / Interpolator-type: Absolute                    \n",
       "INTRP_C = 'C       '           / Interpolator-calibration: Flux calibrated      \n",
       "INTRP_V = '3       '           / Interpolator version number (MILES V3)         \n",
       "ULY_TYPE= 'TGM     '           / Type of model component (for ULySS)            \n",
       "TEFFLIM1=                2900. / Low bound of TEFF validity range               \n",
       "DATE    = '2015-08-15T22:30:31' / Date (UT) written: CCDD-MM-DDThh:mm:ss        \n",
       "TEFFLIM2=               40000. / High bound of TEFF validity range              \n",
       "LOGGLIM1=                -0.25 / Low bound of LOGG validity range               \n",
       "LOGGLIM2=                  5.9 / High bound of LOGG validity range              \n",
       "FEHLIM1 =                 -2.8 / Low bound of FEH validity range                \n",
       "FEHLIM2 =                   1. / High bound of FEH validity range               "
      ]
     },
     "execution_count": 4,
     "metadata": {},
     "output_type": "execute_result"
    }
   ],
   "source": [
    "data = fits_file[2]\n",
    "data.header"
   ]
  },
  {
   "cell_type": "code",
   "execution_count": 12,
   "metadata": {
    "execution": {
     "iopub.execute_input": "2020-09-15T02:09:07.060182Z",
     "iopub.status.busy": "2020-09-15T02:09:07.059097Z",
     "iopub.status.idle": "2020-09-15T02:09:07.071077Z",
     "shell.execute_reply": "2020-09-15T02:09:07.071077Z",
     "shell.execute_reply.started": "2020-09-15T02:09:07.060182Z"
    }
   },
   "outputs": [
    {
     "name": "stdout",
     "output_type": "stream",
     "text": [
      "J125407.11+192110.9\n",
      "26.04\n"
     ]
    }
   ],
   "source": [
    "print(data.header['DESIG'][7:])\n",
    "print(data.header['SNRR'])"
   ]
  },
  {
   "cell_type": "code",
   "execution_count": 1,
   "metadata": {},
   "outputs": [
    {
     "name": "stdout",
     "output_type": "stream",
     "text": [
      "52\n",
      "   LP    Rem Name  RA1950   DE1950  ...      pm     pmPA  _RA.icrs   _DE.icrs\n",
      "                  \"h:m:s\"  \"d:m:s\"  ... arcsec / yr deg              \"d:m:s\" \n",
      "-------- --- ---- -------- -------- ... ----------- ---- ---------- ---------\n",
      "584-0063          00 03 23 +00 01.8 ...       0.219   93 00 05 56.8 +00 18 41\n",
      "643-0083          23 50 40 +00 33.4 ...       0.197   93 23 53 13.7 +00 50 15\n",
      "584-0030          23 54 05 -01 32.3 ...       0.199  193 23 56 38.8 -01 15 26\n"
     ]
    }
   ],
   "source": [
    "from astroquery.vizier import Vizier\n",
    "from astropy import coordinates\n",
    "from astropy import units as u\n",
    "\n",
    "v = Vizier(keywords=['stars:white_dwarf'])\n",
    "\n",
    "c = coordinates.SkyCoord(0, 0, unit=('deg', 'deg'), frame='icrs')\n",
    "result = v.query_region(c, radius=2*u.deg)\n",
    "\n",
    "print(len(result))\n",
    "# 44\n",
    "\n",
    "result[0].pprint()"
   ]
  },
  {
   "cell_type": "code",
   "execution_count": null,
   "metadata": {},
   "outputs": [],
   "source": []
  }
 ],
 "metadata": {
  "kernelspec": {
   "display_name": "Python 3",
   "language": "python",
   "name": "python3"
  },
  "language_info": {
   "codemirror_mode": {
    "name": "ipython",
    "version": 3
   },
   "file_extension": ".py",
   "mimetype": "text/x-python",
   "name": "python",
   "nbconvert_exporter": "python",
   "pygments_lexer": "ipython3",
   "version": "3.8.5"
  }
 },
 "nbformat": 4,
 "nbformat_minor": 4
}
