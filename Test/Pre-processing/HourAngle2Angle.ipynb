{
 "cells": [
  {
   "cell_type": "markdown",
   "metadata": {},
   "source": [
    "## astropy 中的 SkyCoord\n",
    "用于天体坐标转换\n",
    "+ 输入坐标可以是角度deg、也可以是时角hourangle……"
   ]
  },
  {
   "cell_type": "code",
   "execution_count": 1,
   "metadata": {
    "execution": {
     "iopub.execute_input": "2020-09-18T01:50:15.762313Z",
     "iopub.status.busy": "2020-09-18T01:50:15.762313Z",
     "iopub.status.idle": "2020-09-18T01:50:16.836413Z",
     "shell.execute_reply": "2020-09-18T01:50:16.835444Z",
     "shell.execute_reply.started": "2020-09-18T01:50:15.762313Z"
    }
   },
   "outputs": [],
   "source": [
    "from astropy import units as u\n",
    "from astropy.coordinates import SkyCoord"
   ]
  },
  {
   "cell_type": "code",
   "execution_count": 21,
   "metadata": {
    "execution": {
     "iopub.execute_input": "2020-09-17T08:08:15.560296Z",
     "iopub.status.busy": "2020-09-17T08:08:15.560296Z",
     "iopub.status.idle": "2020-09-17T08:08:15.574301Z",
     "shell.execute_reply": "2020-09-17T08:08:15.573298Z",
     "shell.execute_reply.started": "2020-09-17T08:08:15.560296Z"
    }
   },
   "outputs": [
    {
     "data": {
      "text/plain": [
       "<SkyCoord (ICRS): (ra, dec) in deg\n",
       "    (10.625, 41.2)>"
      ]
     },
     "execution_count": 21,
     "metadata": {},
     "output_type": "execute_result"
    }
   ],
   "source": [
    "c = SkyCoord(10.625, 41.2, frame='icrs', unit='deg')\n",
    "c = SkyCoord('00h42m30s', '+41d12m00s', frame='icrs')\n",
    "c = SkyCoord('00h42.5m', '+41d12m')\n",
    "c = SkyCoord('00 42 30 +41 12 00', unit=(u.hourangle, u.deg))\n",
    "c = SkyCoord('00:42.5 +41:12', unit=(u.hourangle, u.deg))\n",
    "c"
   ]
  },
  {
   "cell_type": "markdown",
   "metadata": {},
   "source": [
    "### 输入的坐标也可以是list形式 "
   ]
  },
  {
   "cell_type": "code",
   "execution_count": 3,
   "metadata": {
    "execution": {
     "iopub.execute_input": "2020-09-18T00:52:00.621367Z",
     "iopub.status.busy": "2020-09-18T00:52:00.620318Z",
     "iopub.status.idle": "2020-09-18T00:52:00.629318Z",
     "shell.execute_reply": "2020-09-18T00:52:00.628320Z",
     "shell.execute_reply.started": "2020-09-18T00:52:00.621367Z"
    }
   },
   "outputs": [
    {
     "data": {
      "text/plain": [
       "<SkyCoord (ICRS): (ra, dec) in deg\n",
       "    [(10., 41.), (11., -5.), (12., 42.), (13.,  0.)]>"
      ]
     },
     "execution_count": 3,
     "metadata": {},
     "output_type": "execute_result"
    }
   ],
   "source": [
    "c = SkyCoord(ra=[10, 11, 12, 13]*u.degree, dec=[41, -5, 42, 0]*u.degree)\n",
    "c"
   ]
  },
  {
   "cell_type": "code",
   "execution_count": 7,
   "metadata": {
    "execution": {
     "iopub.execute_input": "2020-09-18T00:52:56.053824Z",
     "iopub.status.busy": "2020-09-18T00:52:56.052801Z",
     "iopub.status.idle": "2020-09-18T00:52:56.059800Z",
     "shell.execute_reply": "2020-09-18T00:52:56.058801Z",
     "shell.execute_reply.started": "2020-09-18T00:52:56.053824Z"
    }
   },
   "outputs": [
    {
     "name": "stdout",
     "output_type": "stream",
     "text": [
      "<SkyCoord (ICRS): (ra, dec) in deg\n",
      "    (11., -5.)>\n"
     ]
    }
   ],
   "source": [
    "c[1]\n",
    "print(c[1])"
   ]
  },
  {
   "cell_type": "code",
   "execution_count": 9,
   "metadata": {
    "execution": {
     "iopub.execute_input": "2020-09-17T07:48:55.210283Z",
     "iopub.status.busy": "2020-09-17T07:48:55.209327Z",
     "iopub.status.idle": "2020-09-17T07:48:55.216283Z",
     "shell.execute_reply": "2020-09-17T07:48:55.215319Z",
     "shell.execute_reply.started": "2020-09-17T07:48:55.210283Z"
    }
   },
   "outputs": [
    {
     "data": {
      "text/plain": [
       "<SkyCoord (ICRS): (ra, dec) in deg\n",
       "    [[(10., 41.), (11., -5.)],\n",
       "     [(12., 42.), (13.,  0.)]]>"
      ]
     },
     "execution_count": 9,
     "metadata": {},
     "output_type": "execute_result"
    }
   ],
   "source": [
    "c.reshape(2, 2) "
   ]
  },
  {
   "cell_type": "markdown",
   "metadata": {},
   "source": [
    "### 单独获取ra、dec"
   ]
  },
  {
   "cell_type": "code",
   "execution_count": 18,
   "metadata": {
    "execution": {
     "iopub.execute_input": "2020-09-18T01:16:47.579911Z",
     "iopub.status.busy": "2020-09-18T01:16:47.578900Z",
     "iopub.status.idle": "2020-09-18T01:16:47.586899Z",
     "shell.execute_reply": "2020-09-18T01:16:47.585901Z",
     "shell.execute_reply.started": "2020-09-18T01:16:47.579911Z"
    }
   },
   "outputs": [
    {
     "data": {
      "text/latex": [
       "$10^\\circ41{}^\\prime04.488{}^{\\prime\\prime}$"
      ],
      "text/plain": [
       "<Longitude 10.68458 deg>"
      ]
     },
     "execution_count": 18,
     "metadata": {},
     "output_type": "execute_result"
    }
   ],
   "source": [
    "c = SkyCoord(ra=10.68458*u.degree, dec=41.26917*u.degree)\n",
    "c.ra"
   ]
  },
  {
   "cell_type": "code",
   "execution_count": 19,
   "metadata": {
    "execution": {
     "iopub.execute_input": "2020-09-18T01:16:53.337617Z",
     "iopub.status.busy": "2020-09-18T01:16:53.336618Z",
     "iopub.status.idle": "2020-09-18T01:16:53.350621Z",
     "shell.execute_reply": "2020-09-18T01:16:53.349621Z",
     "shell.execute_reply.started": "2020-09-18T01:16:53.337617Z"
    }
   },
   "outputs": [
    {
     "name": "stdout",
     "output_type": "stream",
     "text": [
      "0.7123053333333335\n",
      "hms_tuple(h=0.0, m=42.0, s=44.299200000000525) \n",
      "\n",
      "41.26917\n",
      "0.7202828960652683\n"
     ]
    },
    {
     "data": {
      "text/plain": [
       "'10d41m04.488s 41d16m09.012s'"
      ]
     },
     "execution_count": 19,
     "metadata": {},
     "output_type": "execute_result"
    }
   ],
   "source": [
    "# 用时间表示\n",
    "print(c.ra.hour)\n",
    "# 时分秒\n",
    "print(c.ra.hms,'\\n')\n",
    "\n",
    "# 角度\n",
    "print(c.dec.degree)\n",
    "# 弧度\n",
    "print(c.dec.radian)\n",
    "\n",
    "# 字符串转换\n",
    "c.to_string('dms')"
   ]
  },
  {
   "cell_type": "markdown",
   "metadata": {},
   "source": [
    "## 时角-角度 坐标转换"
   ]
  },
  {
   "cell_type": "code",
   "execution_count": 2,
   "metadata": {
    "execution": {
     "iopub.execute_input": "2020-09-18T01:50:27.255012Z",
     "iopub.status.busy": "2020-09-18T01:50:27.254008Z",
     "iopub.status.idle": "2020-09-18T01:50:27.263990Z",
     "shell.execute_reply": "2020-09-18T01:50:27.262989Z",
     "shell.execute_reply.started": "2020-09-18T01:50:27.255012Z"
    }
   },
   "outputs": [
    {
     "name": "stdout",
     "output_type": "stream",
     "text": [
      "['00 05 30.87 +03 17 35.8', '00 30 10.59 +40 07 41.0', '00 30 23.63 +05 09 04.1']\n"
     ]
    }
   ],
   "source": [
    "# 时角\n",
    "s = ['J000530.87+031735.8','J003010.59+400741.0','J003023.63+050904.1']\n",
    "\n",
    "# ==========     提取时角坐标     ==========\n",
    "def add_space(a):\n",
    "    s = list(a[1:19])\n",
    "    s.insert(2,' ')\n",
    "    s.insert(5,' ')\n",
    "    s.insert(11,' ')\n",
    "    s.insert(15,' ')\n",
    "    s.insert(18,' ')\n",
    "    str1 = ''.join(s)\n",
    "    return str1\n",
    "\n",
    "# ==========     列表的形式输入     ==========\n",
    "str2 = list(map(add_space, s))  # 迭代器和映射\n",
    "print(str2)"
   ]
  },
  {
   "cell_type": "code",
   "execution_count": 4,
   "metadata": {
    "execution": {
     "iopub.execute_input": "2020-09-18T01:50:48.763824Z",
     "iopub.status.busy": "2020-09-18T01:50:48.762824Z",
     "iopub.status.idle": "2020-09-18T01:50:48.776827Z",
     "shell.execute_reply": "2020-09-18T01:50:48.775859Z",
     "shell.execute_reply.started": "2020-09-18T01:50:48.763824Z"
    }
   },
   "outputs": [
    {
     "name": "stdout",
     "output_type": "stream",
     "text": [
      "+073238.85 +400741.00\n",
      "1.3786249999999998,3.2932777777777775\n",
      "7.544124999999998,40.128055555555555\n",
      "7.598458333333333,5.151138888888889\n"
     ]
    }
   ],
   "source": [
    "c = SkyCoord(str2, unit=(u.hourangle, u.deg))\n",
    "a1 = c[1]\n",
    "\n",
    "# ==========     输出指定格式字符串     ==========\n",
    "str_a1 = a1.to_string('dms', decimal=False, sep='', precision=2, alwayssign=True, pad=True)\n",
    "print(str_a1)\n",
    "\n",
    "# ==========     弧度制(字符串)     ==========\n",
    "for i in c:\n",
    "    print(str(i.ra.deg)+','+str(i.dec.deg))"
   ]
  },
  {
   "cell_type": "code",
   "execution_count": 6,
   "metadata": {
    "execution": {
     "iopub.execute_input": "2020-09-18T01:51:30.440071Z",
     "iopub.status.busy": "2020-09-18T01:51:30.439081Z",
     "iopub.status.idle": "2020-09-18T01:51:30.532046Z",
     "shell.execute_reply": "2020-09-18T01:51:30.531046Z",
     "shell.execute_reply.started": "2020-09-18T01:51:30.440071Z"
    }
   },
   "outputs": [
    {
     "name": "stdout",
     "output_type": "stream",
     "text": [
      "done!\n"
     ]
    }
   ],
   "source": [
    "# ==========     文件操作     ==========\n",
    "b = []\n",
    "with open('table_b16') as f:\n",
    "    lines = f.readlines()\n",
    "    for line in lines:\n",
    "        a = line.split(' ')\n",
    "        b.append(a[0])\n",
    "\n",
    "# 提取时角\n",
    "d = list(map(add_space, b)) \n",
    "# 转换角度\n",
    "c = SkyCoord(d, unit=(u.hourangle, u.deg))\n",
    "\n",
    "# ==========     保存文件     ==========\n",
    "with open('out.txt', 'w+') as f2:\n",
    "    for line in c:\n",
    "        f2.writelines(str(line.ra.deg)+','+str(line.dec.deg)+',2.0''\\n')\n",
    "\n",
    "print('done!')"
   ]
  }
 ],
 "metadata": {
  "kernelspec": {
   "display_name": "Python 3",
   "language": "python",
   "name": "python3"
  },
  "language_info": {
   "codemirror_mode": {
    "name": "ipython",
    "version": 3
   },
   "file_extension": ".py",
   "mimetype": "text/x-python",
   "name": "python",
   "nbconvert_exporter": "python",
   "pygments_lexer": "ipython3",
   "version": "3.7.4"
  }
 },
 "nbformat": 4,
 "nbformat_minor": 4
}
