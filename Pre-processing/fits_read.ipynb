{
 "cells": [
  {
   "cell_type": "markdown",
   "metadata": {},
   "source": [
    "## 读入fits"
   ]
  },
  {
   "cell_type": "code",
   "execution_count": 10,
   "metadata": {
    "execution": {
     "iopub.execute_input": "2020-09-15T02:09:04.370087Z",
     "iopub.status.busy": "2020-09-15T02:09:04.370087Z",
     "iopub.status.idle": "2020-09-15T02:09:04.380061Z",
     "shell.execute_reply": "2020-09-15T02:09:04.379095Z",
     "shell.execute_reply.started": "2020-09-15T02:09:04.370087Z"
    }
   },
   "outputs": [
    {
     "name": "stdout",
     "output_type": "stream",
     "text": [
      "Filename: ./new/spec-57106-HD125855N172433M01_sp16-243.fits\n",
      "No.    Name      Ver    Type      Cards   Dimensions   Format\n",
      "  0  Flux          1 PrimaryHDU     127   (3909, 5)   float32   \n"
     ]
    }
   ],
   "source": [
    "import numpy as np\n",
    "from astropy.io import fits\n",
    "filename = './new/spec-57106-HD125855N172433M01_sp16-243.fits'\n",
    "\n",
    "with fits.open(filename) as fits_file:\n",
    "    fits_file.info()"
   ]
  },
  {
   "cell_type": "code",
   "execution_count": 11,
   "metadata": {
    "execution": {
     "iopub.execute_input": "2020-09-15T02:09:07.046612Z",
     "iopub.status.busy": "2020-09-15T02:09:07.045614Z",
     "iopub.status.idle": "2020-09-15T02:09:07.058114Z",
     "shell.execute_reply": "2020-09-15T02:09:07.056588Z",
     "shell.execute_reply.started": "2020-09-15T02:09:07.046612Z"
    }
   },
   "outputs": [
    {
     "name": "stdout",
     "output_type": "stream",
     "text": [
      "SIMPLE  =                    T /Primary Header created by MWRFITS v1.11b        BITPIX  =                  -32 /                                                NAXIS   =                    2 / Number of array dimensions                     NAXIS1  =                 3909 /                                                NAXIS2  =                    5 /                                                EXTEND  =                    T /                                                                                                                                COMMENT --------FILE INFORMATION                                                FILENAME= 'spec-57106-HD125855N172433M01_sp16-243.fits' /                       OBSID   =            337716243 / Unique number ID of this spectrum              AUTHOR  = 'LAMOST Pipeline'    / Who compiled the information                   DATA_V  = 'LAMOST DR7'         / Data release version                           EXTEN0  = 'Flux, Inverse, Wavelength, Andmask, Ormask' /                        N_EXTEN =                    1 / The extension number                           EXTNAME = 'Flux    '           / The extension name                             ORIGIN  = 'NAOC-LAMOST'        / Organization responsible for creating this fileDATE    = '2020-03-19T20:41:35' / Time when this HDU is created (UTC)           COMMENT --------TELESCOPE PARAMETERS                                            TELESCOP= 'LAMOST  '           / GuoShouJing Telescope                          LONGITUD=               117.58 / [deg] Longitude of site                        LATITUDE=                40.39 / [deg] Latitude of site                         FOCUS   =                19964 / [mm] Telescope focus                           CAMPRO  = 'NEWCAM  '           / Camera program name                            CAMVER  = 'v2.0    '           / Camera program version                         COMMENT --------OBSERVATION PARAMETERS                                          DATE-OBS= '2015-03-24T17:07:00' / The observation median UTC                    DATE-BEG= '2015-03-25T00:19:23.0' / The observation start local time            DATE-END= '2015-03-25T01:56:16.0' / The observation end local time              LMJD    =                57106 / Local Modified Julian Day                      MJD     =                57105 / Modified Julian Day                            LMJMLIST= '82232659-82232692-82232726' / Local Modified Julian Minute list      PLANID  = 'HD125855N172433M01' / Plan ID in use                                 RA      =           193.529651 / [deg] Right ascension of object                DEC     =            19.353045 / [deg] Declination of object                    RA_OBS  =           193.529651 / [deg] Right ascension during observing         DEC_OBS =            19.353045 / [deg] Declination during observing             OFFSET  =                    F / Whether there's a offset during observing      OFFSET_V=                 0.00 / Offset value in arcsecond                      DESIG   = 'LAMOST J125407.11+192110.9' / Designation of LAMOST target           FIBERID =                  243 / Fiber ID of Object                             CELL_ID = 'H0907   '           / Fiber Unit ID on the focal plane               X_VALUE = '372.4473650190'     / [mm] X coordinate of object on the focal plane Y_VALUE = '-688.6841620420'    / [mm] Y coordinate of object on the focal plane OBJNAME = '241783639379205'    / Name of object                                 OBJTYPE = 'Star    '           / Object type from input catalog                 TSOURCE = 'LEGUE_LCH'          / Name of input catalog                          TCOMMENT= '15474152920269160'  / Target information                             TFROM   = 'LCH100002'          / Target catalog                                 FIBERTYP= 'Obj     '           / Fiber type of object                           FIBERMAS=                    0 / Bitmask of warning values, 0 means all is well MAGTYPE = 'gri     '           / Magnitude type of object                       MAG1    =                17.97 / [mag] Mag1 of object                           MAG2    =                16.74 / [mag] Mag2 of object                           MAG3    =                16.02 / [mag] Mag3 of object                           MAG4    =                99.00 / [mag] Mag4 of object                           MAG5    =                99.00 / [mag] Mag5 of object                           MAG6    =                99.00 / [mag] Mag6 of object                           MAG7    =                99.00 / [mag] Mag7 of object                           OBS_TYPE= 'OBJ     '           / The type of target (OBJ, FLAT, ARC or BIAS)    OBSCOMM = 'Science '           / Science or Test                                RADECSYS= 'FK5     '           / Equatorial coordinate system                   EQUINOX =              2000.00 / Equinox in years                               LAMPLIST= 'lamphgcdne.dat'     / Arc lamp emission line list                    SKYLIST = 'skylines.dat'       / Sky emission line list                         NEXP    =                    3 / Number of valid exposures                      NEXP_B  =                    3 / Number of valid blue exposures                 NEXP_R  =                    3 / Number of valid red exposures                  EXPT_B  =              5400.00 / [s] Blue exposure duration time                EXPT_R  =              5400.00 / [s] Red exposure duration time                 EXPTIME =              5400.00 / [s] Minimum of exposure time for all cameras   BESTEXP =             82232659 / LMJM of the best exposure                      SCAMEAN =                 3.30 / [ADU] Mean level of scatter light              COMMENT --------SPECTROGRAPH PARAMETERS                                         SPID    =                   16 / Spectrograph ID                                SPRA    =          193.3970978 / [deg] Average RA of this spectrograph          SPDEC   =           19.0501339 / [deg] Average DEC of this spectrograph         SLIT_MOD= 'x2/3    '           / Slit mode, x1, x2/3 or x1/2                    COMMENT --------WEATHER CONDITION                                               TEMPCCDB=              -999.00 / [deg] The temperature of blue CCD              TEMPCCDR=              -999.00 / [deg] The temperature of red CCD               SEEING  =                 3.00 / [arcsec] Seeing during exposure                MOONPHA =                 1.97 / [day] Moon phase for a 29.53 days period       TEMP_AIR= '        '           / [deg] Temperature outside dome                 TEMP_FP =              -999.00 / [degree celsius] Temprature of the focalplane  DEWPOINT= '        '           / [deg]                                          DUST    = '        '           / Reservation                                    HUMIDITY= '        '           /                                                WINDD   = '        '           / [deg] Wind direction                           WINDS   = '        '           / [m/s] Wind speed                               SKYLEVEL= '        '           / Reservation                                    COMMENT --------DATA REDUCTION PARAMETERS                                       EXTRACT = 'aperture'           / Extraction method                              SFLATTEN=                    T / Super flat has been applied                    PCASKYSB=                    T / PCA sky-subtraction has been applied           NSKIES  =                   25 / Sky fiber number                               SKYCHI2 =                  1.9 / Mean chi^2 of sky-subtraction                  SCHI2MIN=                  1.7 / Minimum chi^2 of sky-subtraction               SCHI2MAX=                  2.3 / Maximum chi^2 of sky-subtraction               NSTD    =                    6 / Number of (good) standard stars                FSTAR   = '-32686--32654--32727--32533--32598--32642' / FiberID of flux standardFCBY    = 'given   '           / Standard stars origin (auto, manual or catalog)HELIO   =                    T / Heliocentric correction                        HELIO_RV=             -0.86811 / [km/s] Heliocentric correction                 VACUUM  =                    T / Wavelengths are in vacuum                      NWORDER =                    2 / Number of linear-log10 coefficients            WFITTYPE= 'LOG-LINEAR'         / Linear-log10 dispersion                        COEFF0  =               3.5682 / Central wavelength (log10) of first pixel      COEFF1  =               0.0001 / Log10 dispersion per pixel                     WAT0_001= 'system=linear'      /                                                WAT1_001= 'wtype=linear label=Wavelength units=Angstroms' /                     CRVAL1  =               3.5682 / Central wavelength (log10) of first pixel      CD1_1   =               0.0001 / Log10 dispersion per pixel                     CRPIX1  =                    1 / Starting pixel (1-indexed)                     CTYPE1  = 'LINEAR  '           /                                                DC-FLAG =                    1 / Log-linear flag                                COMMENT --------SPECTRA ANALYSIS RESULTS                                        VERSPIPE= 'v2.9.7  '           / Version of Pipeline                            CLASS   = 'STAR    '           / Class of object                                SUBCLASS= 'M0      '           / Subclass of object                             Z       =          -0.00001520 / Redshift of object                             Z_ERR   =           0.00000667 / Redshift error of object                       ZFLAG   = 'PIPELINE'           / Which method computes the redshift             SNRU    =                 0.00 / SNR of u filter                                SNRG    =                 6.01 / SNR of g filter                                SNRR    =                26.04 / SNR of r filter                                SNRI    =                51.18 / SNR of i filter                                SNRZ    =                38.29 / SNR of z filter                                END                                                                                                                                                                                                                                                                                                                                                                                                                                                                                                                                                                                                                                                                                                                                                                                                                                                                                                                                                                                                                                                                                                                                                                                                                                                                                                                                                                                                             \n"
     ]
    }
   ],
   "source": [
    "data = fits_file[0]\n",
    "print(data.header)"
   ]
  },
  {
   "cell_type": "code",
   "execution_count": 12,
   "metadata": {
    "execution": {
     "iopub.execute_input": "2020-09-15T02:09:07.060182Z",
     "iopub.status.busy": "2020-09-15T02:09:07.059097Z",
     "iopub.status.idle": "2020-09-15T02:09:07.071077Z",
     "shell.execute_reply": "2020-09-15T02:09:07.071077Z",
     "shell.execute_reply.started": "2020-09-15T02:09:07.060182Z"
    }
   },
   "outputs": [
    {
     "name": "stdout",
     "output_type": "stream",
     "text": [
      "J125407.11+192110.9\n",
      "26.04\n"
     ]
    }
   ],
   "source": [
    "print(data.header['DESIG'][7:])\n",
    "print(data.header['SNRR'])"
   ]
  },
  {
   "cell_type": "code",
   "execution_count": null,
   "metadata": {},
   "outputs": [],
   "source": []
  }
 ],
 "metadata": {
  "kernelspec": {
   "display_name": "Python 3",
   "language": "python",
   "name": "python3"
  },
  "language_info": {
   "codemirror_mode": {
    "name": "ipython",
    "version": 3
   },
   "file_extension": ".py",
   "mimetype": "text/x-python",
   "name": "python",
   "nbconvert_exporter": "python",
   "pygments_lexer": "ipython3",
   "version": "3.7.4"
  }
 },
 "nbformat": 4,
 "nbformat_minor": 4
}
